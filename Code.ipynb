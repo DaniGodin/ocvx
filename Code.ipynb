{
 "cells": [
  {
   "cell_type": "markdown",
   "metadata": {},
   "source": [
    "# Examen d'ocvx 2"
   ]
  },
  {
   "cell_type": "markdown",
   "metadata": {},
   "source": [
    "## Section 1"
   ]
  },
  {
   "cell_type": "markdown",
   "metadata": {},
   "source": [
    "### Question 1"
   ]
  },
  {
   "cell_type": "code",
   "execution_count": 4,
   "metadata": {},
   "outputs": [],
   "source": [
    "import warnings\n",
    "import math\n",
    "import seaborn as sns\n",
    "import numpy as np\n",
    "from matplotlib import pyplot as plt"
   ]
  },
  {
   "cell_type": "code",
   "execution_count": 5,
   "metadata": {},
   "outputs": [],
   "source": [
    "class test_function():\n",
    "    \n",
    "    def __init__(self, name, value, dim, nb_params, convex=None, grad=None, hess=None, HCN=None, constraints = None):\n",
    "        self.name = name\n",
    "        self.value = value\n",
    "        self.dim = dim\n",
    "        self.nb_params = nb_params\n",
    "        self.convex = convex\n",
    "        self.grad = grad\n",
    "        self.hess = hess\n",
    "        self.HCN = HCN\n",
    "        self.constraints = constraints"
   ]
  },
  {
   "cell_type": "code",
   "execution_count": 261,
   "metadata": {},
   "outputs": [],
   "source": [
    "mini_1_d = {\n",
    "    \"name\": \"mini_1\",\n",
    "    \"dim\" : 1,\n",
    "    \"nb_params\" : 1,\n",
    "    \"convex\" : True,\n",
    "    \"value\" : (lambda x: np.square([x])-x+2),\n",
    "    \"grad\"  : (lambda x: np.array([2*x - 1])),\n",
    "    \"hess\"  : (lambda x: np.array([2])),\n",
    "    \"HCN\"   : 1,\n",
    "    \"constraints\": []\n",
    "}\n",
    "\n",
    "mini_1 = test_function(**mini_1_d)"
   ]
  },
  {
   "cell_type": "code",
   "execution_count": 262,
   "metadata": {},
   "outputs": [
    {
     "data": {
      "text/plain": [
       "array([2])"
      ]
     },
     "execution_count": 262,
     "metadata": {},
     "output_type": "execute_result"
    }
   ],
   "source": [
    "mini_1.hess(np.array(3))"
   ]
  },
  {
   "cell_type": "code",
   "execution_count": 194,
   "metadata": {},
   "outputs": [],
   "source": [
    "maxi_1_d = {\n",
    "    \"name\": \"mini_1\",\n",
    "    \"dim\" : 1,\n",
    "    \"nb_params\" : 1,\n",
    "    \"convex\" : True,\n",
    "    \"value\" : (lambda x: -1*np.square([x])+2*x+1),\n",
    "    \"grad\"  : (lambda x: np.array([-2*x + 2])),\n",
    "    \"hess\"  : (lambda x: np.array([-2])),\n",
    "    \"HCN\"   : 1,\n",
    "    \"constraints\": []\n",
    "}\n",
    "\n",
    "maxi_1 = test_function(**maxi_1_d)"
   ]
  },
  {
   "cell_type": "code",
   "execution_count": 199,
   "metadata": {},
   "outputs": [
    {
     "data": {
      "text/plain": [
       "array([-2])"
      ]
     },
     "execution_count": 199,
     "metadata": {},
     "output_type": "execute_result"
    }
   ],
   "source": [
    "maxi_1.hess(np.array(3))"
   ]
  },
  {
   "cell_type": "code",
   "execution_count": 8,
   "metadata": {},
   "outputs": [],
   "source": [
    "#C'est la fonction de Bashar, faut changer un peu\n",
    "\n",
    "func_3_d = {\n",
    "    \"name\": \"function_3\",\n",
    "    \"dim\" : 2,\n",
    "    \"nb_params\" : 1,\n",
    "    \"convex\" : True ,\n",
    "    \"value\" : (lambda x, gamma: x[:, 0]**2 + gamma*x[:, 1]**2),\n",
    "    \"grad\"  : (lambda x, gamma: np.array([2*x[:, 0], 2*gamma*x[:, 1]]).reshape(1, -1)),\n",
    "    \"hess\"  : (lambda x, gamma: np.diag([2, 2*gamma])),\n",
    "    \"HCN\"   : (lambda x, gamma: gamma),\n",
    "    \"constraints\" : [],\n",
    "}\n",
    "\n",
    "func_3 = test_function(**func_3_d)"
   ]
  },
  {
   "cell_type": "code",
   "execution_count": 9,
   "metadata": {},
   "outputs": [],
   "source": [
    "exp_1_d = {\n",
    "    \"name\": \"exp_1\",\n",
    "    \"dim\" : 1,\n",
    "    \"nb_params\" : 1,\n",
    "    \"convex\" : True,\n",
    "    \"value\" : (lambda x: math.exp(x)+math.exp(-x)-1),\n",
    "    \"grad\"  : (lambda x: math.exp(x)-math.exp(-x)),\n",
    "    \"hess\"  : (lambda x: math.exp(-x)+math.exp(x)),\n",
    "    \"HCN\"   : 1, #jsp\n",
    "    \"constraints\": []\n",
    "}\n",
    "\n",
    "exp_1 = test_function(**exp_1_d)"
   ]
  },
  {
   "cell_type": "code",
   "execution_count": 57,
   "metadata": {},
   "outputs": [],
   "source": [
    "test_list = [mini_1, maxi_1, exp_1]"
   ]
  },
  {
   "cell_type": "markdown",
   "metadata": {},
   "source": [
    "### Question 2"
   ]
  },
  {
   "cell_type": "code",
   "execution_count": 264,
   "metadata": {},
   "outputs": [],
   "source": [
    "def backtracking(f, x, dir_x, alpha=0.01, beta=0.8):\n",
    "    \n",
    "    x = x.reshape(1, -1)\n",
    "    t = 1\n",
    "\n",
    "    while f.value(x+t*dir_x) > f.value(x) + alpha*t*np.transpose(f.grad(x))*dir_x:\n",
    "        t = beta*t\n",
    "\n",
    "    return t"
   ]
  },
  {
   "cell_type": "code",
   "execution_count": 270,
   "metadata": {},
   "outputs": [],
   "source": [
    "def newton(f, x, epsilon=0.0001):\n",
    "    \n",
    "    x = x.reshape(1, -1)\n",
    "    if (len(f.hess(x).shape) == 1):\n",
    "        hess_inv = 1/f.hess(x)\n",
    "    else:\n",
    "        hess_inv = np.linalg.inv(f.hess(x))\n",
    "\n",
    "    x_dir = -1*hess_inv*f.grad(x)\n",
    "    l = abs(-1*np.transpose(f.grad(x))*x_dir)\n",
    "    \n",
    "    while abs(l/2) > epsilon:\n",
    "        \n",
    "        x_dir = -1*hess_inv*f.grad(x)\n",
    "        l = -1*np.transpose(f.grad(x))*x_dir\n",
    "        #t = backtracking(f, x, x_dir)\n",
    "        x = (x+x_dir).reshape(1, -1)#+t*x_dir).reshape(1, -1)\n",
    "        \n",
    "    return x"
   ]
  },
  {
   "cell_type": "code",
   "execution_count": 271,
   "metadata": {},
   "outputs": [
    {
     "data": {
      "text/plain": [
       "array([[1.]])"
      ]
     },
     "execution_count": 271,
     "metadata": {},
     "output_type": "execute_result"
    }
   ],
   "source": [
    "newton(maxi_1, np.array(2.5))"
   ]
  },
  {
   "cell_type": "markdown",
   "metadata": {},
   "source": [
    "### Question 3"
   ]
  },
  {
   "cell_type": "code",
   "execution_count": 83,
   "metadata": {},
   "outputs": [],
   "source": [
    "# code de Bashar pour la descente de gradient\n",
    "\n",
    "def partial(f, x, i=0, dx=1e-6):\n",
    "    \"\"\"Computes i-th partial derivative of f at point x.\n",
    "    \n",
    "    Args:\n",
    "        f: objective function.\n",
    "        x: point at which partial derivative is computed.\n",
    "        i: coordinate along which derivative is computed.\n",
    "        dx: slack for finite difference.\n",
    "        \n",
    "    Output:\n",
    "        (float)\n",
    "\n",
    "    \"\"\"\n",
    "    x = x.reshape(1, -1)\n",
    "    h = np.zeros(x.shape)\n",
    "    h[0, i] = dx\n",
    "    return (f(x + h) - f(x - h)) / (2*dx)\n",
    "\n",
    "def gradient(f, x, dx=1e-6):\n",
    "    \"\"\"Computes gradient of f at point x.\n",
    "    \n",
    "    Args:\n",
    "        f: objective function.\n",
    "        x: point at which gradient is computed.\n",
    "        dx: slack for finite difference of partial derivatives.\n",
    "        \n",
    "    Output:\n",
    "        (ndarray) of size domain of f.\n",
    "        \n",
    "    \"\"\"\n",
    "    x = x.reshape(1, -1)\n",
    "    dim = x.shape[1]\n",
    "    return np.array([partial(f, x, i, dx) for i in range(dim)]).reshape(1, -1)"
   ]
  },
  {
   "cell_type": "code",
   "execution_count": null,
   "metadata": {},
   "outputs": [],
   "source": []
  }
 ],
 "metadata": {
  "kernelspec": {
   "display_name": "Python 3",
   "language": "python",
   "name": "python3"
  },
  "language_info": {
   "codemirror_mode": {
    "name": "ipython",
    "version": 3
   },
   "file_extension": ".py",
   "mimetype": "text/x-python",
   "name": "python",
   "nbconvert_exporter": "python",
   "pygments_lexer": "ipython3",
   "version": "3.7.1"
  },
  "nbTranslate": {
   "displayLangs": [
    "*"
   ],
   "hotkey": "alt-t",
   "langInMainMenu": true,
   "sourceLang": "en",
   "targetLang": "fr",
   "useGoogleTranslate": true
  }
 },
 "nbformat": 4,
 "nbformat_minor": 2
}
