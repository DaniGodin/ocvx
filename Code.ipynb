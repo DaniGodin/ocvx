{
 "cells": [
  {
   "cell_type": "markdown",
   "metadata": {},
   "source": [
    "# Examen d'ocvx 2"
   ]
  },
  {
   "cell_type": "markdown",
   "metadata": {},
   "source": [
    "## Section 1"
   ]
  },
  {
   "cell_type": "markdown",
   "metadata": {},
   "source": [
    "### question 1."
   ]
  },
  {
   "cell_type": "code",
   "execution_count": 46,
   "metadata": {},
   "outputs": [],
   "source": [
    "import warnings\n",
    "import math\n",
    "import seaborn as sns\n",
    "import numpy as np\n",
    "from matplotlib import pyplot as plt"
   ]
  },
  {
   "cell_type": "code",
   "execution_count": 40,
   "metadata": {},
   "outputs": [],
   "source": [
    "class test_function():\n",
    "    \n",
    "    def __init__(self, name, value, dim, nb_params, convex=None, grad=None, constraints = None):\n",
    "        self.name = name\n",
    "        self.value = value\n",
    "        self.dim = dim\n",
    "        self.nb_params = nb_params\n",
    "        self.convex = convex\n",
    "        self.grad = grad\n",
    "        self.constraints = constraints"
   ]
  },
  {
   "cell_type": "code",
   "execution_count": 41,
   "metadata": {},
   "outputs": [],
   "source": [
    "mini_1_d = {\n",
    "    \"name\": \"mini_1\",\n",
    "    \"dim\" : 1,\n",
    "    \"nb_params\" : 1,\n",
    "    \"convex\" : True,\n",
    "    \"value\" : (lambda x: (x**2) - x + 2),\n",
    "    \"grad\"  : (lambda x: 2*x - 1),\n",
    "    \"constraints\": []\n",
    "}\n",
    "\n",
    "mini_1 = test_function(**mini_1_d)"
   ]
  },
  {
   "cell_type": "code",
   "execution_count": 42,
   "metadata": {},
   "outputs": [],
   "source": [
    "maxi_1_d = {\n",
    "    \"name\": \"mini_1\",\n",
    "    \"dim\" : 1,\n",
    "    \"nb_params\" : 1,\n",
    "    \"convex\" : True,\n",
    "    \"value\" : (lambda x: -1*(x**2) + x +1),\n",
    "    \"grad\"  : (lambda x: -2*x + 1),\n",
    "    \"constraints\": []\n",
    "}\n",
    "\n",
    "maxi_1 = test_function(**maxi_1_d)"
   ]
  },
  {
   "cell_type": "code",
   "execution_count": 43,
   "metadata": {},
   "outputs": [],
   "source": [
    "#C'est la fonction de Bashar, faut changer un peu\n",
    "\n",
    "func_3_d = {\n",
    "    \"name\": \"function_3\",\n",
    "    \"dim\" : 2,\n",
    "    \"nb_params\" : 1,\n",
    "    \"convex\" : True ,\n",
    "    \"value\" : (lambda x, gamma: x[:, 0]**2 + gamma*x[:, 1]**2),\n",
    "    \"grad\"  : (lambda x, gamma: np.array([2*x[:, 0], 2*gamma*x[:, 1]]).reshape(1, -1)),\n",
    "    \"constraints\" : [],\n",
    "}\n",
    "\n",
    "func_3 = test_function(**func_3_d)"
   ]
  },
  {
   "cell_type": "code",
   "execution_count": 48,
   "metadata": {},
   "outputs": [],
   "source": [
    "exp_1_d = {\n",
    "    \"name\": \"exp_1\",\n",
    "    \"dim\" : 1,\n",
    "    \"nb_params\" : 1,\n",
    "    \"convex\" : True,\n",
    "    \"value\" : (lambda x: math.exp(x)+math.exp(-x)-1),\n",
    "    \"grad\"  : (lambda x: math.exp(x)-math.exp(-x)),\n",
    "    \"constraints\": []\n",
    "}\n",
    "\n",
    "exp_1 = test_function(**exp_1_d)"
   ]
  },
  {
   "cell_type": "markdown",
   "metadata": {},
   "source": [
    "### question 2"
   ]
  },
  {
   "cell_type": "code",
   "execution_count": 49,
   "metadata": {},
   "outputs": [],
   "source": [
    "def newton(x, function, epsilon=0.000001):\n",
    "    \n",
    "    diff = 1\n",
    "    \n",
    "    while diff > epsilon:\n",
    "        \n",
    "        xn = x - function[\"value\"](x)/function[\"grad\"](x)\n",
    "        diff = abs(xn - x)\n",
    "        x = xn\n",
    "        print(diff)\n",
    "    \n",
    "    print(xn)"
   ]
  },
  {
   "cell_type": "code",
   "execution_count": null,
   "metadata": {},
   "outputs": [],
   "source": [
    "def Newton_meth(orig_point, function, step):\n",
    "    next_point = function[\"value\"](orig_point)\n",
    "    \n",
    "\n",
    "\n",
    "\n",
    "\n",
    "orig = 2 #\n",
    "\n",
    "\n",
    "\n",
    "\n",
    "\n"
   ]
  }
 ],
 "metadata": {
  "kernelspec": {
   "display_name": "Python 3",
   "language": "python",
   "name": "python3"
  },
  "language_info": {
   "codemirror_mode": {
    "name": "ipython",
    "version": 3
   },
   "file_extension": ".py",
   "mimetype": "text/x-python",
   "name": "python",
   "nbconvert_exporter": "python",
   "pygments_lexer": "ipython3",
   "version": "3.7.1"
  },
  "nbTranslate": {
   "displayLangs": [
    "*"
   ],
   "hotkey": "alt-t",
   "langInMainMenu": true,
   "sourceLang": "en",
   "targetLang": "fr",
   "useGoogleTranslate": true
  }
 },
 "nbformat": 4,
 "nbformat_minor": 2
}
