{
 "cells": [
  {
   "cell_type": "markdown",
   "metadata": {},
   "source": [
    "# Examen d'ocvx 2"
   ]
  },
  {
   "cell_type": "markdown",
   "metadata": {},
   "source": [
    "## Section 1"
   ]
  },
  {
   "cell_type": "markdown",
   "metadata": {},
   "source": [
    "### question 1."
   ]
  },
  {
   "cell_type": "code",
   "execution_count": 51,
   "metadata": {},
   "outputs": [],
   "source": [
    "import warnings\n",
    "import math\n",
    "import seaborn as sns\n",
    "import numpy as np\n",
    "from matplotlib import pyplot as plt"
   ]
  },
  {
   "cell_type": "code",
   "execution_count": 42,
   "metadata": {},
   "outputs": [],
   "source": [
    "class test_function():\n",
    "    \n",
    "    def __init__(self, name, value, dim, nb_params, convex=None, grad=None, hess=None, HCN=None, constraints = None):\n",
    "        self.name = name\n",
    "        self.value = value\n",
    "        self.dim = dim\n",
    "        self.nb_params = nb_params\n",
    "        self.convex = convex\n",
    "        self.grad = grad\n",
    "        self.hess = hess\n",
    "        self.HCN = HCN\n",
    "        self.constraints = constraints"
   ]
  },
  {
   "cell_type": "code",
   "execution_count": 46,
   "metadata": {},
   "outputs": [],
   "source": [
    "mini_1_d = {\n",
    "    \"name\": \"mini_1\",\n",
    "    \"dim\" : 1,\n",
    "    \"nb_params\" : 1,\n",
    "    \"convex\" : True,\n",
    "    \"value\" : (lambda x: (x**2) - x + 2),\n",
    "    \"grad\"  : (lambda x: 2*x - 1),\n",
    "    \"hess\"  : (lambda x: 2),\n",
    "    \"HCN\"   : 1,\n",
    "    \"constraints\": []\n",
    "}\n",
    "\n",
    "mini_1 = test_function(**mini_1_d)"
   ]
  },
  {
   "cell_type": "code",
   "execution_count": 65,
   "metadata": {},
   "outputs": [],
   "source": [
    "maxi_1_d = {\n",
    "    \"name\": \"mini_1\",\n",
    "    \"dim\" : 1,\n",
    "    \"nb_params\" : 1,\n",
    "    \"convex\" : True,\n",
    "    \"value\" : (lambda x: -1*(x**2) + 2*x +1),\n",
    "    \"grad\"  : (lambda x: -2*x + 2),\n",
    "    \"hess\"  : (lambda x: -2),\n",
    "    \"HCN\"   : 1,\n",
    "    \"constraints\": []\n",
    "}\n",
    "\n",
    "maxi_1 = test_function(**maxi_1_d)"
   ]
  },
  {
   "cell_type": "code",
   "execution_count": 67,
   "metadata": {},
   "outputs": [],
   "source": [
    "#C'est la fonction de Bashar, faut changer un peu\n",
    "\n",
    "func_3_d = {\n",
    "    \"name\": \"function_3\",\n",
    "    \"dim\" : 2,\n",
    "    \"nb_params\" : 1,\n",
    "    \"convex\" : True ,\n",
    "    \"value\" : (lambda x, gamma: x[:, 0]**2 + gamma*x[:, 1]**2),\n",
    "    \"grad\"  : (lambda x, gamma: np.array([2*x[:, 0], 2*gamma*x[:, 1]]).reshape(1, -1)),\n",
    "    \"hess\"  : (lambda x, gamma: np.diag([2, 2*gamma])),\n",
    "    \"HCN\"   : (lambda x, gamma: gamma),\n",
    "    \"constraints\" : [],\n",
    "}\n",
    "\n",
    "func_3 = test_function(**func_3_d)"
   ]
  },
  {
   "cell_type": "code",
   "execution_count": 49,
   "metadata": {},
   "outputs": [],
   "source": [
    "exp_1_d = {\n",
    "    \"name\": \"exp_1\",\n",
    "    \"dim\" : 1,\n",
    "    \"nb_params\" : 1,\n",
    "    \"convex\" : True,\n",
    "    \"value\" : (lambda x: math.exp(x)+math.exp(-x)-1),\n",
    "    \"grad\"  : (lambda x: math.exp(x)-math.exp(-x)),\n",
    "    \"hess\"  : (lambda x: math.exp(-x)+math.exp(x)),\n",
    "    \"HCN\"   : 1, #jsp\n",
    "    \"constraints\": []\n",
    "}\n",
    "\n",
    "exp_1 = test_function(**exp_1_d)"
   ]
  },
  {
   "cell_type": "markdown",
   "metadata": {},
   "source": [
    "### question 2"
   ]
  },
  {
   "cell_type": "code",
   "execution_count": 77,
   "metadata": {},
   "outputs": [],
   "source": [
    "# trouver 0\n",
    "\n",
    "def newton(x, function, epsilon=0.000001):\n",
    "    \n",
    "    diff = 1\n",
    "    \n",
    "    while diff > epsilon:\n",
    "        \n",
    "        xn = x - function[\"value\"](x)/function[\"grad\"](x)\n",
    "        diff = abs(xn - x)\n",
    "        x = xn\n",
    "        print(diff)\n",
    "    \n",
    "    print(x)"
   ]
  },
  {
   "cell_type": "code",
   "execution_count": 78,
   "metadata": {},
   "outputs": [],
   "source": [
    "# trouver min ou max\n",
    "# https://transp-or.epfl.ch/optimization/slides/04-newtonLocale.pdf\n",
    "\n",
    "def newton_opti(x, function, epsilon=0.000001):\n",
    "    \n",
    "    while abs(function[\"grad\"](x)) > epsilon:\n",
    "        \n",
    "        dn = -1*(function[\"grad\"](x)/function[\"hess\"](x))\n",
    "        x = x + dn\n",
    "    \n",
    "    return x"
   ]
  },
  {
   "cell_type": "code",
   "execution_count": 81,
   "metadata": {},
   "outputs": [
    {
     "data": {
      "text/plain": [
       "1.0"
      ]
     },
     "execution_count": 81,
     "metadata": {},
     "output_type": "execute_result"
    }
   ],
   "source": [
    "newton_min(3, maxi_1_d)"
   ]
  },
  {
   "cell_type": "code",
   "execution_count": null,
   "metadata": {},
   "outputs": [],
   "source": [
    "def Newton_meth(orig_point, function, step):\n",
    "    next_point = function[\"value\"](orig_point)\n",
    "    \n",
    "\n",
    "\n",
    "\n",
    "\n",
    "orig = 2 #\n",
    "\n",
    "\n",
    "\n",
    "\n",
    "\n"
   ]
  }
 ],
 "metadata": {
  "kernelspec": {
   "display_name": "Python 3",
   "language": "python",
   "name": "python3"
  },
  "language_info": {
   "codemirror_mode": {
    "name": "ipython",
    "version": 3
   },
   "file_extension": ".py",
   "mimetype": "text/x-python",
   "name": "python",
   "nbconvert_exporter": "python",
   "pygments_lexer": "ipython3",
   "version": "3.7.1"
  },
  "nbTranslate": {
   "displayLangs": [
    "*"
   ],
   "hotkey": "alt-t",
   "langInMainMenu": true,
   "sourceLang": "en",
   "targetLang": "fr",
   "useGoogleTranslate": true
  }
 },
 "nbformat": 4,
 "nbformat_minor": 2
}
