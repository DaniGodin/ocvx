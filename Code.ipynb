{
 "cells": [
  {
   "cell_type": "markdown",
   "metadata": {},
   "source": [
    "# Examen d'ocvx 2"
   ]
  },
  {
   "cell_type": "markdown",
   "metadata": {},
   "source": [
    "## Section 1"
   ]
  },
  {
   "cell_type": "markdown",
   "metadata": {},
   "source": [
    "### Question 1"
   ]
  },
  {
   "cell_type": "code",
   "execution_count": 38,
   "metadata": {},
   "outputs": [],
   "source": [
    "import warnings\n",
    "import math\n",
    "import time\n",
    "import seaborn as sns\n",
    "import numpy as np\n",
    "from matplotlib import pyplot as plt"
   ]
  },
  {
   "cell_type": "code",
   "execution_count": 4,
   "metadata": {},
   "outputs": [],
   "source": [
    "class test_function():\n",
    "    \n",
    "    def __init__(self, name, value, dim, nb_params, convex=None, grad=None, hess=None, HCN=None, constraints = None):\n",
    "        self.name = name\n",
    "        self.value = value\n",
    "        self.dim = dim\n",
    "        self.nb_params = nb_params\n",
    "        self.convex = convex\n",
    "        self.grad = grad\n",
    "        self.hess = hess\n",
    "        self.HCN = HCN\n",
    "        self.constraints = constraints"
   ]
  },
  {
   "cell_type": "code",
   "execution_count": 93,
   "metadata": {},
   "outputs": [],
   "source": [
    "mini_1_d = {\n",
    "    \"name\": \"mini_1\",\n",
    "    \"dim\" : 1,\n",
    "    \"nb_params\" : 1,\n",
    "    \"convex\" : True,\n",
    "    \"value\" : (lambda x: np.square([x])+x+1),\n",
    "    \"grad\"  : (lambda x: np.array([2*x + 1])),\n",
    "    \"hess\"  : (lambda x: np.array([2])),\n",
    "    \"HCN\"   : 1,\n",
    "    \"constraints\": []\n",
    "}\n",
    "\n",
    "mini_1 = test_function(**mini_1_d)"
   ]
  },
  {
   "cell_type": "code",
   "execution_count": 95,
   "metadata": {},
   "outputs": [],
   "source": [
    "maxi_1_d = {\n",
    "    \"name\": \"mini_1\",\n",
    "    \"dim\" : 1,\n",
    "    \"nb_params\" : 1,\n",
    "    \"convex\" : True,\n",
    "    \"value\" : (lambda x: -1*np.square([x])+2*x+1),\n",
    "    \"grad\"  : (lambda x: np.array([-2*x + 2])),\n",
    "    \"hess\"  : (lambda x: np.array([-2])),\n",
    "    \"HCN\"   : 1,\n",
    "    \"constraints\": []\n",
    "}\n",
    "\n",
    "maxi_1 = test_function(**maxi_1_d)"
   ]
  },
  {
   "cell_type": "code",
   "execution_count": 208,
   "metadata": {},
   "outputs": [],
   "source": [
    "#C'est la fonction de Bashar, faut changer un peu\n",
    "\n",
    "#func_3_d = {\n",
    "#    \"name\": \"function_3\",\n",
    "#    \"dim\" : 2,\n",
    "#    \"nb_params\" : 1,\n",
    "#    \"convex\" : True ,\n",
    "#    \"value\" : (lambda x: np.square([x[:, 0]]) + np.square([x[:, 1]])),#x[:, 0]**2 + gamma*x[:, 1]**2),\n",
    "#    \"grad\"  : (lambda x: np.array([2*x[:, 0], 2*x[:, 1]]).reshape(1, -1)),\n",
    "#    \"hess\"  : (lambda x: np.diag([2, 2])),\n",
    "#    \"HCN\"   : (lambda x: 1),\n",
    "#    \"constraints\" : [],\n",
    "#}\n",
    "\n",
    "#func_3 = test_function(**func_3_d)"
   ]
  },
  {
   "cell_type": "code",
   "execution_count": 197,
   "metadata": {},
   "outputs": [],
   "source": [
    "exp_1_d = {\n",
    "    \"name\": \"exp_1\",\n",
    "    \"dim\" : 1,\n",
    "    \"nb_params\" : 1,\n",
    "    \"convex\" : True,\n",
    "    \"value\" : (lambda x: np.array([math.exp(x)+math.exp(-x)-1])),#np.array([math.exp(x)+math.exp(-2*x)-1])\n",
    "    \"grad\"  : (lambda x: np.array([math.exp(x)-math.exp(-x)])),#np.array([-2*math.exp(-2*x)+math.exp(x)]))\n",
    "    \"hess\"  : (lambda x: np.array([math.exp(-x)+math.exp(x)])),#np.array([4*math.exp(-2*x)+math.exp(x)]))\n",
    "    \"HCN\"   : 1, #jsp\n",
    "    \"constraints\": []\n",
    "}\n",
    "\n",
    "exp_1 = test_function(**exp_1_d)"
   ]
  },
  {
   "cell_type": "code",
   "execution_count": 198,
   "metadata": {},
   "outputs": [],
   "source": [
    "test_list = [mini_1, maxi_1, exp_1]"
   ]
  },
  {
   "cell_type": "markdown",
   "metadata": {},
   "source": [
    "### Question 2"
   ]
  },
  {
   "cell_type": "code",
   "execution_count": 175,
   "metadata": {},
   "outputs": [],
   "source": [
    "def backtracking(f, x, dir_x, alpha=0.1, beta=0.8):\n",
    "    \n",
    "    return 1\n",
    "    t = 1\n",
    "\n",
    "    while f.value(x+t*dir_x) > f.value(x) + alpha*t*np.transpose(f.grad(x))*dir_x:\n",
    "        t = beta*t\n",
    "\n",
    "    return t"
   ]
  },
  {
   "cell_type": "code",
   "execution_count": 187,
   "metadata": {},
   "outputs": [],
   "source": [
    "def newton(f, x, epsilon=0.0001):\n",
    "    \n",
    "    x = x.reshape(1, -1)\n",
    "    if (len(f.hess(x).shape) == 1):\n",
    "        hess_inv = 1/f.hess(x)\n",
    "    else:\n",
    "        hess_inv = np.linalg.inv(f.hess(x))\n",
    "\n",
    "    x_dir = -1*hess_inv*f.grad(x)\n",
    "    l = abs(-1*np.transpose(f.grad(x))*x_dir)\n",
    "    \n",
    "    n_iter = 0\n",
    "    \n",
    "    while abs(l/2) > epsilon:\n",
    "        \n",
    "        x_dir = -1*hess_inv*f.grad(x)\n",
    "        l = -1*np.transpose(f.grad(x))*x_dir\n",
    "        t = backtracking(f, x, x_dir)\n",
    "        x = (x+t*x_dir)\n",
    "        n_iter += 1\n",
    "    \n",
    "    ob_val = f.value(x)\n",
    "    \n",
    "    return x.flatten(), ob_val.flatten(), n_iter"
   ]
  },
  {
   "cell_type": "code",
   "execution_count": 226,
   "metadata": {},
   "outputs": [
    {
     "name": "stdout",
     "output_type": "stream",
     "text": [
      "Temps d'execution : 0.0006389617919921875 secondes\n",
      "Estimation :  [1.]\n",
      "Ob value :  [2.]\n",
      "Nombre d'iterations :  2\n"
     ]
    }
   ],
   "source": [
    "start = time.time()\n",
    "newton_op_pt, newton_ob_val, newton_n_iter = newton(maxi_1, np.array(3))\n",
    "print(\"Temps d'execution : %s secondes\" % (time.time() - start))\n",
    "print(\"Estimation : \", newton_op_pt)\n",
    "print(\"Ob value : \", newton_ob_val)\n",
    "print(\"Nombre d'iterations : \", newton_n_iter)"
   ]
  },
  {
   "cell_type": "code",
   "execution_count": 227,
   "metadata": {},
   "outputs": [
    {
     "name": "stderr",
     "output_type": "stream",
     "text": [
      "No handles with labels found to put in legend.\n"
     ]
    },
    {
     "data": {
      "text/plain": [
       "<matplotlib.legend.Legend at 0x1a2039e630>"
      ]
     },
     "execution_count": 227,
     "metadata": {},
     "output_type": "execute_result"
    },
    {
     "data": {
      "image/png": "[encoded data removed]",
      "text/plain": [
       "<Figure size 1152x648 with 1 Axes>"
      ]
     },
     "metadata": {
      "needs_background": "light"
     },
     "output_type": "display_data"
    }
   ],
   "source": [
    "fig, ax = plt.subplots(figsize=(16, 9))\n",
    "x = np.linspace(-10, 10, 400)\n",
    "ax.set_ylim(-50, 10)\n",
    "ax.plot(x, maxi_1.value(x).flatten())\n",
    "#ax.set_title(\"Famille cubique en dimension 1\")\n",
    "ax.plot([newton_op_pt], [newton_ob_val], 'ro')\n",
    "ax.legend()"
   ]
  },
  {
   "cell_type": "code",
   "execution_count": 228,
   "metadata": {},
   "outputs": [
    {
     "name": "stdout",
     "output_type": "stream",
     "text": [
      "Temps d'execution : 0.0006110668182373047 secondes\n",
      "Estimation :  [-0.5]\n",
      "Ob value :  [0.75]\n",
      "Nombre d'iterations :  2\n"
     ]
    }
   ],
   "source": [
    "start = time.time()\n",
    "newton_op_pt, newton_ob_val, newton_n_iter = newton(mini_1, np.array(3))\n",
    "print(\"Temps d'execution : %s secondes\" % (time.time() - start))\n",
    "print(\"Estimation : \", newton_op_pt)\n",
    "print(\"Ob value : \", newton_ob_val)\n",
    "print(\"Nombre d'iterations : \", newton_n_iter)"
   ]
  },
  {
   "cell_type": "code",
   "execution_count": 235,
   "metadata": {},
   "outputs": [
    {
     "name": "stderr",
     "output_type": "stream",
     "text": [
      "No handles with labels found to put in legend.\n"
     ]
    },
    {
     "data": {
      "text/plain": [
       "<matplotlib.legend.Legend at 0x1a207eb908>"
      ]
     },
     "execution_count": 235,
     "metadata": {},
     "output_type": "execute_result"
    },
    {
     "data": {
      "image/png": "[encoded data removed]",
      "text/plain": [
       "<Figure size 1152x648 with 1 Axes>"
      ]
     },
     "metadata": {
      "needs_background": "light"
     },
     "output_type": "display_data"
    }
   ],
   "source": [
    "fig, ax = plt.subplots(figsize=(16, 9))\n",
    "x = np.linspace(-5, 5, 400)\n",
    "ax.set_ylim(0, 10)\n",
    "ax.plot(x, mini_1.value(x).flatten())\n",
    "#ax.set_title(\"Famille cubique en dimension 1\")\n",
    "ax.plot([newton_op_pt], [newton_ob_val], 'ro')\n",
    "ax.legend()"
   ]
  },
  {
   "cell_type": "markdown",
   "metadata": {},
   "source": [
    "### Question 3"
   ]
  },
  {
   "cell_type": "code",
   "execution_count": 178,
   "metadata": {},
   "outputs": [],
   "source": [
    "# code de Bashar pour la descente de gradient\n",
    "\n",
    "def partial(f, x, i=0, dx=1e-6):\n",
    "    \"\"\"Computes i-th partial derivative of f at point x.\n",
    "    \n",
    "    Args:\n",
    "        f: objective function.\n",
    "        x: point at which partial derivative is computed.\n",
    "        i: coordinate along which derivative is computed.\n",
    "        dx: slack for finite difference.\n",
    "        \n",
    "    Output:\n",
    "        (float)\n",
    "\n",
    "    \"\"\"\n",
    "    x = x.reshape(1, -1)\n",
    "    h = np.zeros(x.shape)\n",
    "    h[0, i] = dx\n",
    "    return (f(x + h) - f(x - h)) / (2*dx)\n",
    "\n",
    "def gradient(f, x, dx=1e-6):\n",
    "    \"\"\"Computes gradient of f at point x.\n",
    "    \n",
    "    Args:\n",
    "        f: objective function.\n",
    "        x: point at which gradient is computed.\n",
    "        dx: slack for finite difference of partial derivatives.\n",
    "        \n",
    "    Output:\n",
    "        (ndarray) of size domain of f.\n",
    "        \n",
    "    \"\"\"\n",
    "    x = x.reshape(1, -1)\n",
    "    dim = x.shape[1]\n",
    "    return np.array([partial(f, x, i, dx) for i in range(dim)]).reshape(1, -1)"
   ]
  },
  {
   "cell_type": "code",
   "execution_count": 183,
   "metadata": {},
   "outputs": [],
   "source": [
    "quad_I_d = {\n",
    "    \"name\": \"quadratic_1\",\n",
    "    \"dim\" : 1,\n",
    "    \"nb_params\" : 1,\n",
    "    \"convex\" : True,\n",
    "    \"value\" : (lambda x, gamma: gamma*(x**2) + x + 1),\n",
    "    \"grad\"  : (lambda x, gamma: 2*gamma*x + 1),\n",
    "    \"hess\"  : (lambda x, gamma: 2*gamma),\n",
    "    \"HCN\"   : 1\n",
    "}\n",
    "\n",
    "quad_I = test_function(**quad_I_d)"
   ]
  },
  {
   "cell_type": "code",
   "execution_count": 184,
   "metadata": {},
   "outputs": [],
   "source": [
    "class GD():\n",
    "    \"\"\"Gradient Descent Object.\n",
    "    \n",
    "    Implements gradient descent aiming to compute optimal objective \n",
    "    value of convex functions and local optimal ones of none \n",
    "    convex functions.\n",
    "    \n",
    "    \"\"\"    \n",
    "    def __init__(self, ddir=None, rate=None, decay=None, tol=None, max_iter=None):\n",
    "        \"\"\"        \n",
    "        Instantiates a GD object.\n",
    "    \n",
    "        Attributes:\n",
    "        ddir: function computing descent direction.\n",
    "        rate: function computing learning rate ; takes in\n",
    "              - x (ndarray): current iterate\n",
    "              - f (function): objective function\n",
    "              - dir_x (ndarray) : descent direction\n",
    "              - grad (function) : gradient function\n",
    "              - nb_iter (int): number of iterations.\n",
    "              - eta (float): hyper-parameter.\n",
    "        decay: function computing decay.\n",
    "        tol: slack tolerance.\n",
    "        max_iter: upper bound on number of iterations.\n",
    "    \n",
    "        \"\"\"\n",
    "        self.ddir = ddir if ddir else (lambda x, f, grad, tol: - grad(x, f, tol))\n",
    "        self.rate = rate if rate else (lambda x, f, dir_x, grad, nb_iter, eta : 0.01)\n",
    "        self.decay = decay if decay else (lambda x, f, grad, tol: np.linalg.norm(grad(x, f, tol)))\n",
    "        self.tol = tol if tol else 1e-6\n",
    "        self.max_iter = max_iter if max_iter else 1000\n",
    "    \n",
    "    def __call__(self, x, f, grad, verbose=False):\n",
    "        \"\"\"Calling gradient descent object with specific starting point and optimal function.\n",
    "        \n",
    "        Args:\n",
    "            x: initial starting point for descent.\n",
    "            f: objective function of optimisation problem.\n",
    "            grad: function outputing gradient value of function f at a given point.\n",
    "        \n",
    "        Output:\n",
    "            (float) sub-optimal value up to tolerance if execution is proper.\n",
    "            (ndarray) list of gradient descent iterates.\n",
    "            (ndarray) list of graidents of iterates.\n",
    "            (int) number of iterations.\n",
    "            \n",
    "        \"\"\"\n",
    "        x = x.reshape(1, -1)\n",
    "        eta = 0\n",
    "        n_iter = 0\n",
    "\n",
    "        dir_x = self.ddir(x, f, grad, self.tol)\n",
    "        rate_ = self.rate(x, f, dir_x, grad, n_iter, eta)\n",
    "        delta_x = rate_ * dir_x\n",
    "        iters, iters_dir = x, delta_x\n",
    "        \n",
    "        decay_x = self.decay(x, f, grad, self.tol)\n",
    "        while decay_x > self.tol and n_iter < self.max_iter:\n",
    "            ## Deciding on direction\n",
    "            dir_x = self.ddir(x, f, grad, self.tol)\n",
    "            rate_ = self.rate(x, f, dir_x, grad, n_iter, eta)\n",
    "            delta_x =  rate_ * dir_x\n",
    "            \n",
    "            # Storing iterates\n",
    "            iters = np.vstack([iters, x])\n",
    "            \n",
    "            ## Updating iterate\n",
    "            x = x + delta_x\n",
    "            \n",
    "            ## Storing directions\n",
    "            iters_dir = np.vstack([iters_dir, delta_x])\n",
    "            \n",
    "            ## Computing decay\n",
    "            decay_x = self.decay(x, f, grad, self.tol)\n",
    "            \n",
    "            ## Updating iteration number\n",
    "            n_iter += 1\n",
    "            \n",
    "        #if decay_x > self.tol:\n",
    "        #    warnings.warn(\"Decay didn't get under tolerance rate.\", RuntimeWarning)\n",
    "        \n",
    "        #if verbose:\n",
    "        #    msg = \" Iteration nu. = {}\\n approx. = {}\\n ob value = {}\\n and decay = {}.\"\n",
    "        #    print(msg.format(n_iter, x.flatten(), f(x), decay_x))\n",
    "        \n",
    "        return (x, iters, iters_dir, n_iter) "
   ]
  },
  {
   "cell_type": "markdown",
   "metadata": {},
   "source": [
    "#### Méthode vue en TP :"
   ]
  },
  {
   "cell_type": "code",
   "execution_count": 185,
   "metadata": {},
   "outputs": [
    {
     "name": "stdout",
     "output_type": "stream",
     "text": [
      "Temps d'execution : 0.051473140716552734 secondes\n",
      "Estimation :  [-0.4999995]\n",
      "Ob value :  [[0.75]]\n",
      "Nombre d'iterations :  835\n"
     ]
    }
   ],
   "source": [
    "start = time.time()\n",
    "GD_default = GD()\n",
    "gd_op_pt, iters, iters_dir, gd_n_iter = GD_default(np.array([10]), (lambda x : quad_I.value (x, 1)), \n",
    "                                             (lambda x, f, tol : quad_I.grad (x, 1)), True)\n",
    "print(\"Temps d'execution : %s secondes\" % (time.time() - start))\n",
    "print(\"Estimation : \", gd_op_pt.flatten())\n",
    "print(\"Ob value : \", quad_I.value(gd_op_pt, 1))\n",
    "print(\"Nombre d'iterations : \", gd_n_iter)"
   ]
  },
  {
   "cell_type": "markdown",
   "metadata": {},
   "source": [
    "#### Méthode de Newton :"
   ]
  },
  {
   "cell_type": "code",
   "execution_count": 219,
   "metadata": {},
   "outputs": [
    {
     "name": "stdout",
     "output_type": "stream",
     "text": [
      "Temps d'execution : 0.0006310939788818359 secondes\n",
      "Estimation :  [1.]\n",
      "Ob value :  [2.]\n",
      "Nombre d'iterations :  2\n"
     ]
    }
   ],
   "source": [
    "start = time.time()\n",
    "newton_op_pt, newton_ob_val, newton_n_iter = newton(maxi_1, np.array(3))\n",
    "print(\"Temps d'execution : %s secondes\" % (time.time() - start))\n",
    "print(\"Estimation : \", newton_op_pt)\n",
    "print(\"Ob value : \", newton_ob_val)\n",
    "print(\"Nombre d'iterations : \", newton_n_iter)"
   ]
  },
  {
   "cell_type": "code",
   "execution_count": null,
   "metadata": {},
   "outputs": [],
   "source": []
  }
 ],
 "metadata": {
  "kernelspec": {
   "display_name": "Python 3",
   "language": "python",
   "name": "python3"
  },
  "language_info": {
   "codemirror_mode": {
    "name": "ipython",
    "version": 3
   },
   "file_extension": ".py",
   "mimetype": "text/x-python",
   "name": "python",
   "nbconvert_exporter": "python",
   "pygments_lexer": "ipython3",
   "version": "3.7.1"
  },
  "nbTranslate": {
   "displayLangs": [
    "*"
   ],
   "hotkey": "alt-t",
   "langInMainMenu": true,
   "sourceLang": "en",
   "targetLang": "fr",
   "useGoogleTranslate": true
  }
 },
 "nbformat": 4,
 "nbformat_minor": 2
}
